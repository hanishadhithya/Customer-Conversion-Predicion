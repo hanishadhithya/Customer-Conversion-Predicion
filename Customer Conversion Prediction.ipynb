{
 "cells": [
  {
   "cell_type": "markdown",
   "id": "f624fca6",
   "metadata": {},
   "source": [
    "# Customer Conversion Prediction"
   ]
  },
  {
   "cell_type": "code",
   "execution_count": null,
   "id": "d0c77163",
   "metadata": {},
   "outputs": [],
   "source": []
  },
  {
   "cell_type": "markdown",
   "id": "45087a37",
   "metadata": {},
   "source": [
    "# Problem Statement\n",
    "\n",
    "You are working for a new-age insurance company and employ mutiple outreach plans to sell term insurance to your customers. Telephonic marketing campaigns still remain one of the most effective way to reach out to people however they incur a lot of cost. Hence, it is important to identify the customers that are most likely to convert beforehand so that they can be specifically targeted via call. We are given the historical marketing data of the insurance company and are required to build a ML model that will predict if a client will subscribe to the insurance. \n"
   ]
  },
  {
   "cell_type": "code",
   "execution_count": 1,
   "id": "5d87920d",
   "metadata": {},
   "outputs": [],
   "source": [
    "import pandas as pd\n",
    "import numpy as np\n",
    "import matplotlib.pyplot as plt\n",
    "import seaborn as sns\n",
    "import warnings\n",
    "warnings.filterwarnings('ignore')"
   ]
  },
  {
   "cell_type": "code",
   "execution_count": 2,
   "id": "325acdff",
   "metadata": {},
   "outputs": [
    {
     "data": {
      "text/html": [
       "<div>\n",
       "<style scoped>\n",
       "    .dataframe tbody tr th:only-of-type {\n",
       "        vertical-align: middle;\n",
       "    }\n",
       "\n",
       "    .dataframe tbody tr th {\n",
       "        vertical-align: top;\n",
       "    }\n",
       "\n",
       "    .dataframe thead th {\n",
       "        text-align: right;\n",
       "    }\n",
       "</style>\n",
       "<table border=\"1\" class=\"dataframe\">\n",
       "  <thead>\n",
       "    <tr style=\"text-align: right;\">\n",
       "      <th></th>\n",
       "      <th>age</th>\n",
       "      <th>job</th>\n",
       "      <th>marital</th>\n",
       "      <th>education_qual</th>\n",
       "      <th>call_type</th>\n",
       "      <th>day</th>\n",
       "      <th>mon</th>\n",
       "      <th>dur</th>\n",
       "      <th>num_calls</th>\n",
       "      <th>prev_outcome</th>\n",
       "      <th>y</th>\n",
       "    </tr>\n",
       "  </thead>\n",
       "  <tbody>\n",
       "    <tr>\n",
       "      <th>0</th>\n",
       "      <td>58</td>\n",
       "      <td>management</td>\n",
       "      <td>married</td>\n",
       "      <td>tertiary</td>\n",
       "      <td>unknown</td>\n",
       "      <td>5</td>\n",
       "      <td>may</td>\n",
       "      <td>261</td>\n",
       "      <td>1</td>\n",
       "      <td>unknown</td>\n",
       "      <td>no</td>\n",
       "    </tr>\n",
       "    <tr>\n",
       "      <th>1</th>\n",
       "      <td>44</td>\n",
       "      <td>technician</td>\n",
       "      <td>single</td>\n",
       "      <td>secondary</td>\n",
       "      <td>unknown</td>\n",
       "      <td>5</td>\n",
       "      <td>may</td>\n",
       "      <td>151</td>\n",
       "      <td>1</td>\n",
       "      <td>unknown</td>\n",
       "      <td>no</td>\n",
       "    </tr>\n",
       "    <tr>\n",
       "      <th>2</th>\n",
       "      <td>33</td>\n",
       "      <td>entrepreneur</td>\n",
       "      <td>married</td>\n",
       "      <td>secondary</td>\n",
       "      <td>unknown</td>\n",
       "      <td>5</td>\n",
       "      <td>may</td>\n",
       "      <td>76</td>\n",
       "      <td>1</td>\n",
       "      <td>unknown</td>\n",
       "      <td>no</td>\n",
       "    </tr>\n",
       "    <tr>\n",
       "      <th>3</th>\n",
       "      <td>47</td>\n",
       "      <td>blue-collar</td>\n",
       "      <td>married</td>\n",
       "      <td>unknown</td>\n",
       "      <td>unknown</td>\n",
       "      <td>5</td>\n",
       "      <td>may</td>\n",
       "      <td>92</td>\n",
       "      <td>1</td>\n",
       "      <td>unknown</td>\n",
       "      <td>no</td>\n",
       "    </tr>\n",
       "    <tr>\n",
       "      <th>4</th>\n",
       "      <td>33</td>\n",
       "      <td>unknown</td>\n",
       "      <td>single</td>\n",
       "      <td>unknown</td>\n",
       "      <td>unknown</td>\n",
       "      <td>5</td>\n",
       "      <td>may</td>\n",
       "      <td>198</td>\n",
       "      <td>1</td>\n",
       "      <td>unknown</td>\n",
       "      <td>no</td>\n",
       "    </tr>\n",
       "    <tr>\n",
       "      <th>...</th>\n",
       "      <td>...</td>\n",
       "      <td>...</td>\n",
       "      <td>...</td>\n",
       "      <td>...</td>\n",
       "      <td>...</td>\n",
       "      <td>...</td>\n",
       "      <td>...</td>\n",
       "      <td>...</td>\n",
       "      <td>...</td>\n",
       "      <td>...</td>\n",
       "      <td>...</td>\n",
       "    </tr>\n",
       "    <tr>\n",
       "      <th>45206</th>\n",
       "      <td>51</td>\n",
       "      <td>technician</td>\n",
       "      <td>married</td>\n",
       "      <td>tertiary</td>\n",
       "      <td>cellular</td>\n",
       "      <td>17</td>\n",
       "      <td>nov</td>\n",
       "      <td>977</td>\n",
       "      <td>3</td>\n",
       "      <td>unknown</td>\n",
       "      <td>yes</td>\n",
       "    </tr>\n",
       "    <tr>\n",
       "      <th>45207</th>\n",
       "      <td>71</td>\n",
       "      <td>retired</td>\n",
       "      <td>divorced</td>\n",
       "      <td>primary</td>\n",
       "      <td>cellular</td>\n",
       "      <td>17</td>\n",
       "      <td>nov</td>\n",
       "      <td>456</td>\n",
       "      <td>2</td>\n",
       "      <td>unknown</td>\n",
       "      <td>yes</td>\n",
       "    </tr>\n",
       "    <tr>\n",
       "      <th>45208</th>\n",
       "      <td>72</td>\n",
       "      <td>retired</td>\n",
       "      <td>married</td>\n",
       "      <td>secondary</td>\n",
       "      <td>cellular</td>\n",
       "      <td>17</td>\n",
       "      <td>nov</td>\n",
       "      <td>1127</td>\n",
       "      <td>5</td>\n",
       "      <td>success</td>\n",
       "      <td>yes</td>\n",
       "    </tr>\n",
       "    <tr>\n",
       "      <th>45209</th>\n",
       "      <td>57</td>\n",
       "      <td>blue-collar</td>\n",
       "      <td>married</td>\n",
       "      <td>secondary</td>\n",
       "      <td>telephone</td>\n",
       "      <td>17</td>\n",
       "      <td>nov</td>\n",
       "      <td>508</td>\n",
       "      <td>4</td>\n",
       "      <td>unknown</td>\n",
       "      <td>no</td>\n",
       "    </tr>\n",
       "    <tr>\n",
       "      <th>45210</th>\n",
       "      <td>37</td>\n",
       "      <td>entrepreneur</td>\n",
       "      <td>married</td>\n",
       "      <td>secondary</td>\n",
       "      <td>cellular</td>\n",
       "      <td>17</td>\n",
       "      <td>nov</td>\n",
       "      <td>361</td>\n",
       "      <td>2</td>\n",
       "      <td>other</td>\n",
       "      <td>no</td>\n",
       "    </tr>\n",
       "  </tbody>\n",
       "</table>\n",
       "<p>45211 rows × 11 columns</p>\n",
       "</div>"
      ],
      "text/plain": [
       "       age           job   marital education_qual  call_type  day  mon   dur  \\\n",
       "0       58    management   married       tertiary    unknown    5  may   261   \n",
       "1       44    technician    single      secondary    unknown    5  may   151   \n",
       "2       33  entrepreneur   married      secondary    unknown    5  may    76   \n",
       "3       47   blue-collar   married        unknown    unknown    5  may    92   \n",
       "4       33       unknown    single        unknown    unknown    5  may   198   \n",
       "...    ...           ...       ...            ...        ...  ...  ...   ...   \n",
       "45206   51    technician   married       tertiary   cellular   17  nov   977   \n",
       "45207   71       retired  divorced        primary   cellular   17  nov   456   \n",
       "45208   72       retired   married      secondary   cellular   17  nov  1127   \n",
       "45209   57   blue-collar   married      secondary  telephone   17  nov   508   \n",
       "45210   37  entrepreneur   married      secondary   cellular   17  nov   361   \n",
       "\n",
       "       num_calls prev_outcome    y  \n",
       "0              1      unknown   no  \n",
       "1              1      unknown   no  \n",
       "2              1      unknown   no  \n",
       "3              1      unknown   no  \n",
       "4              1      unknown   no  \n",
       "...          ...          ...  ...  \n",
       "45206          3      unknown  yes  \n",
       "45207          2      unknown  yes  \n",
       "45208          5      success  yes  \n",
       "45209          4      unknown   no  \n",
       "45210          2        other   no  \n",
       "\n",
       "[45211 rows x 11 columns]"
      ]
     },
     "execution_count": 2,
     "metadata": {},
     "output_type": "execute_result"
    }
   ],
   "source": [
    "df = pd.read_csv('train.csv')\n",
    "df"
   ]
  },
  {
   "cell_type": "code",
   "execution_count": 3,
   "id": "a3a981ac",
   "metadata": {},
   "outputs": [
    {
     "data": {
      "text/plain": [
       "age               0\n",
       "job               0\n",
       "marital           0\n",
       "education_qual    0\n",
       "call_type         0\n",
       "day               0\n",
       "mon               0\n",
       "dur               0\n",
       "num_calls         0\n",
       "prev_outcome      0\n",
       "y                 0\n",
       "dtype: int64"
      ]
     },
     "execution_count": 3,
     "metadata": {},
     "output_type": "execute_result"
    }
   ],
   "source": [
    "df.isnull().sum()"
   ]
  },
  {
   "cell_type": "code",
   "execution_count": 4,
   "id": "3206eab7",
   "metadata": {},
   "outputs": [
    {
     "data": {
      "text/plain": [
       "age                int64\n",
       "job               object\n",
       "marital           object\n",
       "education_qual    object\n",
       "call_type         object\n",
       "day                int64\n",
       "mon               object\n",
       "dur                int64\n",
       "num_calls          int64\n",
       "prev_outcome      object\n",
       "y                 object\n",
       "dtype: object"
      ]
     },
     "execution_count": 4,
     "metadata": {},
     "output_type": "execute_result"
    }
   ],
   "source": [
    "df.dtypes"
   ]
  },
  {
   "cell_type": "code",
   "execution_count": 5,
   "id": "5da270c4",
   "metadata": {},
   "outputs": [
    {
     "name": "stdout",
     "output_type": "stream",
     "text": [
      "Check for Imbalancing :  \n",
      "% of yes : 0.11698480458295547 \n",
      "% of no : 0.8830151954170445 \n",
      "\n"
     ]
    }
   ],
   "source": [
    "a =(len(df[df['y'] == 'yes']))/(df.shape[0])\n",
    "b = (len(df[df['y'] == 'no']))/(df.shape[0])\n",
    "print('Check for Imbalancing : ','\\n'\n",
    "      '% of yes :', a,'\\n'\n",
    "      '% of no :', b, '\\n'\n",
    "     )"
   ]
  },
  {
   "cell_type": "markdown",
   "id": "97d13e46",
   "metadata": {},
   "source": [
    "# Data Cleaning "
   ]
  },
  {
   "cell_type": "code",
   "execution_count": 6,
   "id": "ac04ad32",
   "metadata": {},
   "outputs": [],
   "source": [
    "df.drop_duplicates(inplace = True)"
   ]
  },
  {
   "cell_type": "code",
   "execution_count": 7,
   "id": "6fd8015f",
   "metadata": {},
   "outputs": [
    {
     "data": {
      "text/plain": [
       "(45205, 11)"
      ]
     },
     "execution_count": 7,
     "metadata": {},
     "output_type": "execute_result"
    }
   ],
   "source": [
    "df.shape"
   ]
  },
  {
   "cell_type": "markdown",
   "id": "95f05942",
   "metadata": {},
   "source": [
    "# AGE"
   ]
  },
  {
   "cell_type": "code",
   "execution_count": 8,
   "id": "6f164013",
   "metadata": {},
   "outputs": [
    {
     "data": {
      "text/plain": [
       "array([58, 44, 33, 47, 35, 28, 42, 43, 41, 29, 53, 57, 51, 45, 60, 56, 32,\n",
       "       25, 40, 39, 52, 46, 36, 49, 59, 37, 50, 54, 55, 48, 24, 38, 31, 30,\n",
       "       27, 34, 23, 26, 61, 22, 21, 20, 66, 62, 83, 75, 67, 70, 65, 68, 64,\n",
       "       69, 72, 71, 19, 76, 85, 63, 90, 82, 73, 74, 78, 80, 94, 79, 77, 86,\n",
       "       95, 81, 18, 89, 84, 87, 92, 93, 88], dtype=int64)"
      ]
     },
     "execution_count": 8,
     "metadata": {},
     "output_type": "execute_result"
    }
   ],
   "source": [
    "df.age.unique()"
   ]
  },
  {
   "cell_type": "code",
   "execution_count": 9,
   "id": "66c44d7a",
   "metadata": {},
   "outputs": [
    {
     "data": {
      "text/plain": [
       "count    45205.000000\n",
       "mean        40.937087\n",
       "std         10.619130\n",
       "min         18.000000\n",
       "25%         33.000000\n",
       "50%         39.000000\n",
       "75%         48.000000\n",
       "max         95.000000\n",
       "Name: age, dtype: float64"
      ]
     },
     "execution_count": 9,
     "metadata": {},
     "output_type": "execute_result"
    }
   ],
   "source": [
    "df.age.describe()"
   ]
  },
  {
   "cell_type": "code",
   "execution_count": 10,
   "id": "70f5fb48",
   "metadata": {},
   "outputs": [
    {
     "data": {
      "text/plain": [
       "<AxesSubplot:>"
      ]
     },
     "execution_count": 10,
     "metadata": {},
     "output_type": "execute_result"
    },
    {
     "data": {
      "image/png": "[encoded data removed]",
      "text/plain": [
       "<Figure size 640x480 with 1 Axes>"
      ]
     },
     "metadata": {},
     "output_type": "display_data"
    }
   ],
   "source": [
    "df.age.plot.box()"
   ]
  },
  {
   "cell_type": "code",
   "execution_count": 11,
   "id": "007285bf",
   "metadata": {},
   "outputs": [
    {
     "name": "stdout",
     "output_type": "stream",
     "text": [
      "Lower thersold :  10.5 \n",
      "Upper thersold :  70.5\n",
      "count of greater than 70 age :  487\n"
     ]
    }
   ],
   "source": [
    "q1 = df.age.quantile(0.25)\n",
    "q3 = df.age.quantile(0.75)\n",
    "iqr = q3 - q1\n",
    "upper = q3 + (iqr * 1.5)\n",
    "lower = q1 - (iqr * 1.5)\n",
    "print('Lower thersold : ', lower,'\\n'\n",
    "      'Upper thersold : ', upper)\n",
    "print('count of greater than 70 age : ', len(df[df['age'] > 70.5]))"
   ]
  },
  {
   "cell_type": "code",
   "execution_count": 12,
   "id": "73eaf4d1",
   "metadata": {},
   "outputs": [
    {
     "name": "stdout",
     "output_type": "stream",
     "text": [
      "Age > 70 & yes :  218\n",
      "Age > 70 & no :  269\n",
      "Age < 70 & yes :  5054\n",
      "Age < 70 & no :  39597\n"
     ]
    }
   ],
   "source": [
    "print('Age > 70 & yes : ', len(df[(df['age'] > 70) & (df['y'] == 'yes')]))\n",
    "print('Age > 70 & no : ',len(df[(df['age'] > 70) & (df['y'] == 'no')]))\n",
    "print('Age < 70 & yes : ',len(df[(df['age'] < 70) & (df['y'] == 'yes')]))\n",
    "print('Age < 70 & no : ',len(df[(df['age'] < 70) & (df['y'] == 'no')]))"
   ]
  },
  {
   "cell_type": "markdown",
   "id": "016ec6ec",
   "metadata": {},
   "source": [
    "# JOB"
   ]
  },
  {
   "cell_type": "code",
   "execution_count": 13,
   "id": "9716968c",
   "metadata": {},
   "outputs": [
    {
     "data": {
      "text/plain": [
       "blue-collar      9730\n",
       "management       9457\n",
       "technician       7596\n",
       "admin.           5170\n",
       "services         4153\n",
       "retired          2264\n",
       "self-employed    1579\n",
       "entrepreneur     1487\n",
       "unemployed       1303\n",
       "housemaid        1240\n",
       "student           938\n",
       "unknown           288\n",
       "Name: job, dtype: int64"
      ]
     },
     "execution_count": 13,
     "metadata": {},
     "output_type": "execute_result"
    }
   ],
   "source": [
    "df.job.value_counts()"
   ]
  },
  {
   "cell_type": "code",
   "execution_count": 14,
   "id": "969c34e1",
   "metadata": {},
   "outputs": [
    {
     "data": {
      "text/plain": [
       "54"
      ]
     },
     "execution_count": 14,
     "metadata": {},
     "output_type": "execute_result"
    }
   ],
   "source": [
    "len(df[(df['job'] == 'unknown') & (df['education_qual'] == 'unknown') & (df['call_type'] == 'unknown') & (df['prev_outcome'] == 'unknown')])"
   ]
  },
  {
   "cell_type": "code",
   "execution_count": 15,
   "id": "452c3a83",
   "metadata": {},
   "outputs": [
    {
     "data": {
      "text/plain": [
       "job            y  \n",
       "admin.         no     4539\n",
       "               yes     631\n",
       "blue-collar    no     9022\n",
       "               yes     708\n",
       "entrepreneur   no     1364\n",
       "               yes     123\n",
       "housemaid      no     1131\n",
       "               yes     109\n",
       "management     no     8156\n",
       "               yes    1301\n",
       "retired        no     1748\n",
       "               yes     516\n",
       "self-employed  no     1392\n",
       "               yes     187\n",
       "services       no     3784\n",
       "               yes     369\n",
       "student        no      669\n",
       "               yes     269\n",
       "technician     no     6756\n",
       "               yes     840\n",
       "unemployed     no     1101\n",
       "               yes     202\n",
       "unknown        no      254\n",
       "               yes      34\n",
       "Name: y, dtype: int64"
      ]
     },
     "execution_count": 15,
     "metadata": {},
     "output_type": "execute_result"
    }
   ],
   "source": [
    "df.groupby(['job', 'y'])['y'].count()"
   ]
  },
  {
   "cell_type": "code",
   "execution_count": 16,
   "id": "2d4eb07c",
   "metadata": {},
   "outputs": [
    {
     "data": {
      "text/plain": [
       "array(['management', 'technician', 'entrepreneur', 'blue-collar',\n",
       "       'unknown', 'retired', 'admin.', 'services', 'self-employed',\n",
       "       'unemployed', 'housemaid', 'student'], dtype=object)"
      ]
     },
     "execution_count": 16,
     "metadata": {},
     "output_type": "execute_result"
    }
   ],
   "source": [
    "df.job.unique()"
   ]
  },
  {
   "cell_type": "code",
   "execution_count": 17,
   "id": "d2f36ba4",
   "metadata": {},
   "outputs": [
    {
     "name": "stdout",
     "output_type": "stream",
     "text": [
      "Conversion % of  management  :  13.757005392830706\n",
      "Conversion % of  technician  :  11.058451816745656\n",
      "Conversion % of  entrepreneur  :  8.271687962340282\n",
      "Conversion % of  blue-collar  :  7.276464542651594\n",
      "Conversion % of  unknown  :  11.805555555555555\n",
      "Conversion % of  retired  :  22.791519434628977\n",
      "Conversion % of  admin.  :  12.205029013539653\n",
      "Conversion % of  services  :  8.885143269925354\n",
      "Conversion % of  self-employed  :  11.842938568714375\n",
      "Conversion % of  unemployed  :  15.502686108979278\n",
      "Conversion % of  housemaid  :  8.790322580645162\n",
      "Conversion % of  student  :  28.678038379530918\n"
     ]
    }
   ],
   "source": [
    "for i in['management', 'technician', 'entrepreneur', 'blue-collar',\n",
    "       'unknown', 'retired', 'admin.', 'services', 'self-employed',\n",
    "       'unemployed', 'housemaid', 'student'] :\n",
    "    print('Conversion % of ', i, ' : ', ((  (len(df[(df['job'] == i) & (df['y'] == 'yes')]))  /len(df[df['job'] == i]) )*100 ))"
   ]
  },
  {
   "cell_type": "markdown",
   "id": "cacf9612",
   "metadata": {},
   "source": [
    "# Marital"
   ]
  },
  {
   "cell_type": "code",
   "execution_count": 18,
   "id": "7f58a06a",
   "metadata": {},
   "outputs": [
    {
     "data": {
      "text/plain": [
       "married     27210\n",
       "single      12788\n",
       "divorced     5207\n",
       "Name: marital, dtype: int64"
      ]
     },
     "execution_count": 18,
     "metadata": {},
     "output_type": "execute_result"
    }
   ],
   "source": [
    "df.marital.value_counts()"
   ]
  },
  {
   "cell_type": "code",
   "execution_count": 19,
   "id": "0db5cf84",
   "metadata": {},
   "outputs": [
    {
     "data": {
      "text/plain": [
       "array(['married', 'single', 'divorced'], dtype=object)"
      ]
     },
     "execution_count": 19,
     "metadata": {},
     "output_type": "execute_result"
    }
   ],
   "source": [
    "df.marital.unique()"
   ]
  },
  {
   "cell_type": "code",
   "execution_count": 20,
   "id": "c9371845",
   "metadata": {},
   "outputs": [
    {
     "data": {
      "text/plain": [
       "marital   y  \n",
       "divorced  no      4585\n",
       "          yes      622\n",
       "married   no     24455\n",
       "          yes     2755\n",
       "single    no     10876\n",
       "          yes     1912\n",
       "Name: y, dtype: int64"
      ]
     },
     "execution_count": 20,
     "metadata": {},
     "output_type": "execute_result"
    }
   ],
   "source": [
    "df.groupby(['marital', 'y'])['y'].count()"
   ]
  },
  {
   "cell_type": "code",
   "execution_count": 21,
   "id": "083b3bf3",
   "metadata": {},
   "outputs": [
    {
     "name": "stdout",
     "output_type": "stream",
     "text": [
      "Conversion % of  married  :  10.124954061006983\n",
      "Conversion % of  single  :  14.95151704723178\n",
      "Conversion % of  divorced  :  11.945458037257538\n"
     ]
    }
   ],
   "source": [
    "for i in['married', 'single', 'divorced'] :\n",
    "    print('Conversion % of ', i, ' : ', ((  (len(df[(df['marital'] == i) & (df['y'] == 'yes')]))  /len(df[df['marital'] == i]) )*100 ))"
   ]
  },
  {
   "cell_type": "markdown",
   "id": "4d9362c9",
   "metadata": {},
   "source": [
    "# Education"
   ]
  },
  {
   "cell_type": "code",
   "execution_count": 22,
   "id": "0ff40f9c",
   "metadata": {},
   "outputs": [
    {
     "data": {
      "text/plain": [
       "secondary    23199\n",
       "tertiary     13299\n",
       "primary       6850\n",
       "unknown       1857\n",
       "Name: education_qual, dtype: int64"
      ]
     },
     "execution_count": 22,
     "metadata": {},
     "output_type": "execute_result"
    }
   ],
   "source": [
    "df.education_qual.value_counts()"
   ]
  },
  {
   "cell_type": "code",
   "execution_count": 23,
   "id": "991ab202",
   "metadata": {},
   "outputs": [
    {
     "data": {
      "text/plain": [
       "array(['tertiary', 'secondary', 'unknown', 'primary'], dtype=object)"
      ]
     },
     "execution_count": 23,
     "metadata": {},
     "output_type": "execute_result"
    }
   ],
   "source": [
    "df.education_qual.unique()"
   ]
  },
  {
   "cell_type": "code",
   "execution_count": 24,
   "id": "f82249d4",
   "metadata": {},
   "outputs": [
    {
     "data": {
      "text/plain": [
       "education_qual  y  \n",
       "primary         no      6259\n",
       "                yes      591\n",
       "secondary       no     20749\n",
       "                yes     2450\n",
       "tertiary        no     11303\n",
       "                yes     1996\n",
       "unknown         no      1605\n",
       "                yes      252\n",
       "Name: y, dtype: int64"
      ]
     },
     "execution_count": 24,
     "metadata": {},
     "output_type": "execute_result"
    }
   ],
   "source": [
    "df.groupby(['education_qual', 'y'])['y'].count()"
   ]
  },
  {
   "cell_type": "code",
   "execution_count": 25,
   "id": "74abc9f7",
   "metadata": {},
   "outputs": [
    {
     "name": "stdout",
     "output_type": "stream",
     "text": [
      "Conversion % of  tertiary  :  15.008647266711783\n",
      "Conversion % of  secondary  :  10.560800034484245\n",
      "Conversion % of  unknown  :  13.5702746365105\n",
      "Conversion % of  primary  :  8.627737226277372\n"
     ]
    }
   ],
   "source": [
    "for i in ['tertiary', 'secondary', 'unknown', 'primary'] :\n",
    "    print('Conversion % of ', i, ' : ', ((  (len(df[(df['education_qual'] == i) & (df['y'] == 'yes')]))  /len(df[df['education_qual'] == i]) )*100 ))"
   ]
  },
  {
   "cell_type": "markdown",
   "id": "a5702c92",
   "metadata": {},
   "source": [
    "# call type"
   ]
  },
  {
   "cell_type": "code",
   "execution_count": 26,
   "id": "b29553dc",
   "metadata": {},
   "outputs": [
    {
     "data": {
      "text/plain": [
       "cellular     29282\n",
       "unknown      13017\n",
       "telephone     2906\n",
       "Name: call_type, dtype: int64"
      ]
     },
     "execution_count": 26,
     "metadata": {},
     "output_type": "execute_result"
    }
   ],
   "source": [
    "df.call_type.value_counts()"
   ]
  },
  {
   "cell_type": "code",
   "execution_count": 27,
   "id": "395b123d",
   "metadata": {},
   "outputs": [
    {
     "data": {
      "text/plain": [
       "call_type  y  \n",
       "cellular   no     24913\n",
       "           yes     4369\n",
       "telephone  no      2516\n",
       "           yes      390\n",
       "unknown    no     12487\n",
       "           yes      530\n",
       "Name: y, dtype: int64"
      ]
     },
     "execution_count": 27,
     "metadata": {},
     "output_type": "execute_result"
    }
   ],
   "source": [
    "df.groupby(['call_type', 'y'])['y'].count()"
   ]
  },
  {
   "cell_type": "markdown",
   "id": "6daf8a0c",
   "metadata": {},
   "source": [
    "# Month"
   ]
  },
  {
   "cell_type": "code",
   "execution_count": 28,
   "id": "c2b4bc43",
   "metadata": {},
   "outputs": [
    {
     "data": {
      "text/plain": [
       "may    13765\n",
       "jul     6894\n",
       "aug     6245\n",
       "jun     5339\n",
       "nov     3970\n",
       "apr     2932\n",
       "feb     2649\n",
       "jan     1403\n",
       "oct      738\n",
       "sep      579\n",
       "mar      477\n",
       "dec      214\n",
       "Name: mon, dtype: int64"
      ]
     },
     "execution_count": 28,
     "metadata": {},
     "output_type": "execute_result"
    }
   ],
   "source": [
    "df['mon'].value_counts()"
   ]
  },
  {
   "cell_type": "code",
   "execution_count": 29,
   "id": "78d764c0",
   "metadata": {},
   "outputs": [
    {
     "data": {
      "text/plain": [
       "array(['may', 'jun', 'jul', 'aug', 'oct', 'nov', 'dec', 'jan', 'feb',\n",
       "       'mar', 'apr', 'sep'], dtype=object)"
      ]
     },
     "execution_count": 29,
     "metadata": {},
     "output_type": "execute_result"
    }
   ],
   "source": [
    "df['mon'].unique()"
   ]
  },
  {
   "cell_type": "code",
   "execution_count": 30,
   "id": "ec6256be",
   "metadata": {},
   "outputs": [
    {
     "data": {
      "text/plain": [
       "mon  y  \n",
       "apr  no      2355\n",
       "     yes      577\n",
       "aug  no      5557\n",
       "     yes      688\n",
       "dec  no       114\n",
       "     yes      100\n",
       "feb  no      2208\n",
       "     yes      441\n",
       "jan  no      1261\n",
       "     yes      142\n",
       "jul  no      6267\n",
       "     yes      627\n",
       "jun  no      4793\n",
       "     yes      546\n",
       "mar  no       229\n",
       "     yes      248\n",
       "may  no     12840\n",
       "     yes      925\n",
       "nov  no      3567\n",
       "     yes      403\n",
       "oct  no       415\n",
       "     yes      323\n",
       "sep  no       310\n",
       "     yes      269\n",
       "Name: y, dtype: int64"
      ]
     },
     "execution_count": 30,
     "metadata": {},
     "output_type": "execute_result"
    }
   ],
   "source": [
    "df.groupby(['mon', 'y'])['y'].count()"
   ]
  },
  {
   "cell_type": "code",
   "execution_count": 31,
   "id": "08e6970c",
   "metadata": {},
   "outputs": [
    {
     "data": {
      "text/plain": [
       "45205"
      ]
     },
     "execution_count": 31,
     "metadata": {},
     "output_type": "execute_result"
    }
   ],
   "source": [
    "df.shape[0]"
   ]
  },
  {
   "cell_type": "code",
   "execution_count": 32,
   "id": "5fcdd88b",
   "metadata": {},
   "outputs": [
    {
     "name": "stdout",
     "output_type": "stream",
     "text": [
      "Conversion % of  may  :  6.719941881583727\n",
      "Conversion % of  jun  :  10.226634201161266\n",
      "Conversion % of  jul  :  9.094865100087032\n",
      "Conversion % of  aug  :  11.016813450760608\n",
      "Conversion % of  oct  :  43.766937669376695\n",
      "Conversion % of  nov  :  10.151133501259446\n",
      "Conversion % of  dec  :  46.728971962616825\n",
      "Conversion % of  jan  :  10.121168923734853\n",
      "Conversion % of  feb  :  16.64779161947905\n",
      "Conversion % of  mar  :  51.99161425576519\n",
      "Conversion % of  apr  :  19.679399727148706\n",
      "Conversion % of  sep  :  46.45941278065631\n"
     ]
    }
   ],
   "source": [
    "for i in['may', 'jun', 'jul', 'aug', 'oct', 'nov', 'dec', 'jan', 'feb', 'mar', 'apr', 'sep'] :\n",
    "    print('Conversion % of ', i, ' : ', ((  (len(df[(df['mon'] == i) & (df['y'] == 'yes')]))  /len(df[df['mon'] == i]) )*100 ))"
   ]
  },
  {
   "cell_type": "markdown",
   "id": "265d118a",
   "metadata": {},
   "source": [
    "# call duration"
   ]
  },
  {
   "cell_type": "code",
   "execution_count": null,
   "id": "71da27ea",
   "metadata": {},
   "outputs": [],
   "source": []
  },
  {
   "cell_type": "code",
   "execution_count": 33,
   "id": "2a5f7cc4",
   "metadata": {},
   "outputs": [
    {
     "data": {
      "text/plain": [
       "count    45205.000000\n",
       "mean       258.183055\n",
       "std        257.538504\n",
       "min          0.000000\n",
       "25%        103.000000\n",
       "50%        180.000000\n",
       "75%        319.000000\n",
       "max       4918.000000\n",
       "Name: dur, dtype: float64"
      ]
     },
     "execution_count": 33,
     "metadata": {},
     "output_type": "execute_result"
    }
   ],
   "source": [
    "df.dur.describe()"
   ]
  },
  {
   "cell_type": "code",
   "execution_count": 34,
   "id": "b26b38d4",
   "metadata": {},
   "outputs": [
    {
     "name": "stdout",
     "output_type": "stream",
     "text": [
      "Lower thersold :  -221.0 \n",
      "Upper thersold :  643.0\n",
      "count of greater than 643 duration :  3235\n"
     ]
    }
   ],
   "source": [
    "q1 = df.dur.quantile(0.25)\n",
    "q3 = df.dur.quantile(0.75)\n",
    "iqr = q3 - q1\n",
    "upper = q3 + (iqr * 1.5)\n",
    "lower = q1 - (iqr * 1.5)\n",
    "print('Lower thersold : ', lower,'\\n'\n",
    "      'Upper thersold : ', upper)\n",
    "print('count of greater than 643 duration : ', len(df[df['dur'] > 643]))"
   ]
  },
  {
   "cell_type": "code",
   "execution_count": 35,
   "id": "c1ee9f8f",
   "metadata": {},
   "outputs": [
    {
     "data": {
      "text/plain": [
       "<AxesSubplot:>"
      ]
     },
     "execution_count": 35,
     "metadata": {},
     "output_type": "execute_result"
    },
    {
     "data": {
      "image/png": "[encoded data removed]",
      "text/plain": [
       "<Figure size 640x480 with 1 Axes>"
      ]
     },
     "metadata": {},
     "output_type": "display_data"
    }
   ],
   "source": [
    "df.dur.plot.box()"
   ]
  },
  {
   "cell_type": "code",
   "execution_count": 36,
   "id": "567d53e2",
   "metadata": {},
   "outputs": [
    {
     "name": "stdout",
     "output_type": "stream",
     "text": [
      "Duration > 643 & yes :  1651\n",
      "Duration > 643 & no :  1584\n",
      "Duration < 643 & yes :  3636\n",
      "Duration < 643 & no :  38322\n"
     ]
    }
   ],
   "source": [
    "print('Duration > 643 & yes : ', len(df[(df['dur'] > 643) & (df['y'] == 'yes')]))\n",
    "print('Duration > 643 & no : ',len(df[(df['dur'] > 643) & (df['y'] == 'no')]))\n",
    "print('Duration < 643 & yes : ',len(df[(df['dur'] < 643) & (df['y'] == 'yes')]))\n",
    "print('Duration < 643 & no : ',len(df[(df['dur'] < 643) & (df['y'] == 'no')]))"
   ]
  },
  {
   "cell_type": "markdown",
   "id": "938c4afe",
   "metadata": {},
   "source": [
    "# Number of calls"
   ]
  },
  {
   "cell_type": "code",
   "execution_count": 37,
   "id": "d634e99d",
   "metadata": {},
   "outputs": [
    {
     "name": "stdout",
     "output_type": "stream",
     "text": [
      "Lower thersold :  -2.0 \n",
      "Upper thersold :  6.0\n",
      "count of greater than 6 calls :  3064\n"
     ]
    }
   ],
   "source": [
    "q1 = df.num_calls.quantile(0.25)\n",
    "q3 = df.num_calls.quantile(0.75)\n",
    "iqr = q3 - q1\n",
    "upper = q3 + (iqr * 1.5)\n",
    "lower = q1 - (iqr * 1.5)\n",
    "print('Lower thersold : ', lower,'\\n'\n",
    "      'Upper thersold : ', upper)\n",
    "print('count of greater than 6 calls : ', len(df[df['num_calls'] > 6]))"
   ]
  },
  {
   "cell_type": "code",
   "execution_count": 38,
   "id": "a3b0a4a6",
   "metadata": {},
   "outputs": [
    {
     "data": {
      "text/plain": [
       "<AxesSubplot:>"
      ]
     },
     "execution_count": 38,
     "metadata": {},
     "output_type": "execute_result"
    },
    {
     "data": {
      "image/png": "[encoded data removed]",
      "text/plain": [
       "<Figure size 640x480 with 1 Axes>"
      ]
     },
     "metadata": {},
     "output_type": "display_data"
    }
   ],
   "source": [
    "df.num_calls.plot.box()"
   ]
  },
  {
   "cell_type": "code",
   "execution_count": 39,
   "id": "ed8b8080",
   "metadata": {},
   "outputs": [
    {
     "name": "stdout",
     "output_type": "stream",
     "text": [
      "Calls > 6 & yes :  161\n",
      "Calls > 6 & no :  2903\n",
      "Calls < 6 & yes :  5036\n",
      "Calls < 6 & no :  35814\n"
     ]
    }
   ],
   "source": [
    "print('Calls > 6 & yes : ', len(df[(df['num_calls'] > 6) & (df['y'] == 'yes')]))\n",
    "print('Calls > 6 & no : ',len(df[(df['num_calls'] > 6) & (df['y'] == 'no')]))\n",
    "print('Calls < 6 & yes : ',len(df[(df['num_calls'] < 6) & (df['y'] == 'yes')]))\n",
    "print('Calls < 6 & no : ',len(df[(df['num_calls'] < 6) & (df['y'] == 'no')]))"
   ]
  },
  {
   "cell_type": "code",
   "execution_count": 40,
   "id": "2449d4d9",
   "metadata": {},
   "outputs": [
    {
     "data": {
      "text/plain": [
       "'df.num_calls = df.num_calls.clip(1.0,6.0)\\ndf.dur = df.dur.clip(0,643.0)'"
      ]
     },
     "execution_count": 40,
     "metadata": {},
     "output_type": "execute_result"
    }
   ],
   "source": [
    "'''df.num_calls = df.num_calls.clip(1.0,6.0)\n",
    "df.dur = df.dur.clip(0,643.0)'''"
   ]
  },
  {
   "cell_type": "markdown",
   "id": "9f996fd5",
   "metadata": {},
   "source": [
    "# Previous Outcome"
   ]
  },
  {
   "cell_type": "code",
   "execution_count": 41,
   "id": "62c48ba7",
   "metadata": {},
   "outputs": [
    {
     "data": {
      "text/plain": [
       "unknown    36953\n",
       "failure     4901\n",
       "other       1840\n",
       "success     1511\n",
       "Name: prev_outcome, dtype: int64"
      ]
     },
     "execution_count": 41,
     "metadata": {},
     "output_type": "execute_result"
    }
   ],
   "source": [
    "df.prev_outcome.value_counts()"
   ]
  },
  {
   "cell_type": "code",
   "execution_count": 42,
   "id": "7ca157bc",
   "metadata": {},
   "outputs": [
    {
     "data": {
      "text/plain": [
       "array(['unknown', 'failure', 'other', 'success'], dtype=object)"
      ]
     },
     "execution_count": 42,
     "metadata": {},
     "output_type": "execute_result"
    }
   ],
   "source": [
    "df.prev_outcome.unique()"
   ]
  },
  {
   "cell_type": "code",
   "execution_count": 43,
   "id": "c4b7dc71",
   "metadata": {},
   "outputs": [
    {
     "name": "stdout",
     "output_type": "stream",
     "text": [
      "Conversion % of  unknown  :  9.162990826184613\n",
      "Conversion % of  failure  :  12.609671495613139\n",
      "Conversion % of  other  :  16.684782608695652\n",
      "Conversion % of  success  :  64.72534745201854\n"
     ]
    }
   ],
   "source": [
    "for i in ['unknown', 'failure', 'other', 'success'] :\n",
    "    print('Conversion % of ', i, ' : ', ((  (len(df[(df['prev_outcome'] == i) & (df['y'] == 'yes')]))  /len(df[df['prev_outcome'] == i]) )*100 ))"
   ]
  },
  {
   "cell_type": "markdown",
   "id": "bb0b61da",
   "metadata": {},
   "source": [
    "# Target"
   ]
  },
  {
   "cell_type": "code",
   "execution_count": 44,
   "id": "ab6736a4",
   "metadata": {},
   "outputs": [
    {
     "data": {
      "text/plain": [
       "no     39916\n",
       "yes     5289\n",
       "Name: y, dtype: int64"
      ]
     },
     "execution_count": 44,
     "metadata": {},
     "output_type": "execute_result"
    }
   ],
   "source": [
    "df.y.value_counts()"
   ]
  },
  {
   "cell_type": "code",
   "execution_count": 45,
   "id": "b1b83916",
   "metadata": {
    "scrolled": true
   },
   "outputs": [],
   "source": [
    "df.to_csv('cleaned.csv')"
   ]
  },
  {
   "cell_type": "code",
   "execution_count": 46,
   "id": "528344e5",
   "metadata": {},
   "outputs": [
    {
     "data": {
      "text/plain": [
       "Index(['age', 'job', 'marital', 'education_qual', 'call_type', 'day', 'mon',\n",
       "       'dur', 'num_calls', 'prev_outcome', 'y'],\n",
       "      dtype='object')"
      ]
     },
     "execution_count": 46,
     "metadata": {},
     "output_type": "execute_result"
    }
   ],
   "source": [
    "df.columns"
   ]
  },
  {
   "cell_type": "markdown",
   "id": "e045d29a",
   "metadata": {},
   "source": [
    "# EDA"
   ]
  },
  {
   "cell_type": "code",
   "execution_count": 47,
   "id": "01c7050a",
   "metadata": {},
   "outputs": [],
   "source": [
    "df2 = df[(df['y'] == 'yes')]"
   ]
  },
  {
   "cell_type": "code",
   "execution_count": 48,
   "id": "28af9bd8",
   "metadata": {},
   "outputs": [
    {
     "data": {
      "text/plain": [
       "<AxesSubplot:xlabel='age', ylabel='y'>"
      ]
     },
     "execution_count": 48,
     "metadata": {},
     "output_type": "execute_result"
    },
    {
     "data": {
      "image/png": "[encoded data removed]",
      "text/plain": [
       "<Figure size 640x480 with 1 Axes>"
      ]
     },
     "metadata": {},
     "output_type": "display_data"
    }
   ],
   "source": [
    "sns.barplot(data = df, x = 'age', y = 'y')"
   ]
  },
  {
   "cell_type": "code",
   "execution_count": 49,
   "id": "2fbdc5e0",
   "metadata": {},
   "outputs": [
    {
     "data": {
      "image/png": "[encoded data removed]",
      "text/plain": [
       "<Figure size 640x480 with 1 Axes>"
      ]
     },
     "metadata": {},
     "output_type": "display_data"
    }
   ],
   "source": [
    "plot = sns.countplot(data = df, x = 'job')\n",
    "plot.tick_params(axis='x',rotation=90)"
   ]
  },
  {
   "cell_type": "code",
   "execution_count": 50,
   "id": "70707d84",
   "metadata": {},
   "outputs": [
    {
     "data": {
      "image/png": "[encoded data removed]",
      "text/plain": [
       "<Figure size 640x480 with 1 Axes>"
      ]
     },
     "metadata": {},
     "output_type": "display_data"
    }
   ],
   "source": [
    "plot = sns.countplot(data = df2, x = 'job')\n",
    "plot.tick_params(axis='x',rotation=90)"
   ]
  },
  {
   "cell_type": "code",
   "execution_count": null,
   "id": "ebb70c31",
   "metadata": {},
   "outputs": [],
   "source": []
  },
  {
   "cell_type": "code",
   "execution_count": 51,
   "id": "fcbb7e37",
   "metadata": {},
   "outputs": [
    {
     "data": {
      "image/png": "[encoded data removed]",
      "text/plain": [
       "<Figure size 640x480 with 1 Axes>"
      ]
     },
     "metadata": {},
     "output_type": "display_data"
    }
   ],
   "source": [
    "plot = sns.countplot(data = df, x = 'marital')\n",
    "plot.tick_params(axis='x',rotation=90)"
   ]
  },
  {
   "cell_type": "code",
   "execution_count": 52,
   "id": "09f20d2e",
   "metadata": {},
   "outputs": [
    {
     "data": {
      "image/png": "[encoded data removed]",
      "text/plain": [
       "<Figure size 640x480 with 1 Axes>"
      ]
     },
     "metadata": {},
     "output_type": "display_data"
    }
   ],
   "source": [
    "plot = sns.countplot(data = df2, x = 'marital')\n",
    "plot.tick_params(axis='x',rotation=90)"
   ]
  },
  {
   "cell_type": "code",
   "execution_count": 53,
   "id": "fd9f2830",
   "metadata": {},
   "outputs": [
    {
     "data": {
      "image/png": "[encoded data removed]",
      "text/plain": [
       "<Figure size 640x480 with 1 Axes>"
      ]
     },
     "metadata": {},
     "output_type": "display_data"
    }
   ],
   "source": [
    "plot = sns.countplot(data = df, x = 'education_qual')\n",
    "plot.tick_params(axis='x',rotation=90)"
   ]
  },
  {
   "cell_type": "code",
   "execution_count": 54,
   "id": "9ab82150",
   "metadata": {},
   "outputs": [
    {
     "data": {
      "image/png": "[encoded data removed]",
      "text/plain": [
       "<Figure size 640x480 with 1 Axes>"
      ]
     },
     "metadata": {},
     "output_type": "display_data"
    }
   ],
   "source": [
    "plot = sns.countplot(data = df2, x = 'education_qual')\n",
    "plot.tick_params(axis='x',rotation=90)"
   ]
  },
  {
   "cell_type": "code",
   "execution_count": 55,
   "id": "0d6cb26a",
   "metadata": {},
   "outputs": [
    {
     "data": {
      "image/png": "[encoded data removed]",
      "text/plain": [
       "<Figure size 640x480 with 1 Axes>"
      ]
     },
     "metadata": {},
     "output_type": "display_data"
    }
   ],
   "source": [
    "plot = sns.countplot(data = df, x = 'call_type')\n",
    "plot.tick_params(axis='x',rotation=90)"
   ]
  },
  {
   "cell_type": "code",
   "execution_count": 56,
   "id": "3a39f5d9",
   "metadata": {},
   "outputs": [
    {
     "data": {
      "image/png": "[encoded data removed]",
      "text/plain": [
       "<Figure size 640x480 with 1 Axes>"
      ]
     },
     "metadata": {},
     "output_type": "display_data"
    }
   ],
   "source": [
    "plot = sns.countplot(data = df2, x = 'call_type')\n",
    "plot.tick_params(axis='x',rotation=90)"
   ]
  },
  {
   "cell_type": "code",
   "execution_count": 57,
   "id": "ea21205f",
   "metadata": {},
   "outputs": [
    {
     "data": {
      "image/png": "[encoded data removed]",
      "text/plain": [
       "<Figure size 640x480 with 1 Axes>"
      ]
     },
     "metadata": {},
     "output_type": "display_data"
    }
   ],
   "source": [
    "plot = sns.countplot(data = df, x = 'day')\n",
    "plot.tick_params(axis='x',rotation=90)"
   ]
  },
  {
   "cell_type": "code",
   "execution_count": 58,
   "id": "ae7fd1e5",
   "metadata": {},
   "outputs": [
    {
     "data": {
      "image/png": "[encoded data removed]",
      "text/plain": [
       "<Figure size 640x480 with 1 Axes>"
      ]
     },
     "metadata": {},
     "output_type": "display_data"
    }
   ],
   "source": [
    "plot = sns.countplot(data = df2, x = 'day')\n",
    "plot.tick_params(axis='x',rotation=90)"
   ]
  },
  {
   "cell_type": "code",
   "execution_count": 59,
   "id": "45602c5c",
   "metadata": {},
   "outputs": [
    {
     "data": {
      "image/png": "[encoded data removed]",
      "text/plain": [
       "<Figure size 640x480 with 1 Axes>"
      ]
     },
     "metadata": {},
     "output_type": "display_data"
    }
   ],
   "source": [
    "plot = sns.countplot(data = df, x = 'mon')\n",
    "plot.tick_params(axis='x',rotation=90)"
   ]
  },
  {
   "cell_type": "code",
   "execution_count": 60,
   "id": "01083bf9",
   "metadata": {},
   "outputs": [
    {
     "data": {
      "image/png": "[encoded data removed]",
      "text/plain": [
       "<Figure size 640x480 with 1 Axes>"
      ]
     },
     "metadata": {},
     "output_type": "display_data"
    }
   ],
   "source": [
    "plot = sns.countplot(data = df2, x = 'mon')\n",
    "plot.tick_params(axis='x',rotation=90)"
   ]
  },
  {
   "cell_type": "code",
   "execution_count": 61,
   "id": "2f6692d7",
   "metadata": {},
   "outputs": [
    {
     "data": {
      "image/png": "[encoded data removed]",
      "text/plain": [
       "<Figure size 640x480 with 1 Axes>"
      ]
     },
     "metadata": {},
     "output_type": "display_data"
    }
   ],
   "source": [
    "plot = sns.countplot(data = df, x = 'prev_outcome')\n",
    "plot.tick_params(axis='x',rotation=90)"
   ]
  },
  {
   "cell_type": "code",
   "execution_count": 62,
   "id": "3adea924",
   "metadata": {},
   "outputs": [
    {
     "data": {
      "image/png": "[encoded data removed]",
      "text/plain": [
       "<Figure size 640x480 with 1 Axes>"
      ]
     },
     "metadata": {},
     "output_type": "display_data"
    }
   ],
   "source": [
    "plot = sns.countplot(data = df2, x = 'prev_outcome')\n",
    "plot.tick_params(axis='x',rotation=90)"
   ]
  },
  {
   "cell_type": "code",
   "execution_count": 63,
   "id": "59070340",
   "metadata": {},
   "outputs": [
    {
     "data": {
      "text/plain": [
       "<AxesSubplot:ylabel='Frequency'>"
      ]
     },
     "execution_count": 63,
     "metadata": {},
     "output_type": "execute_result"
    },
    {
     "data": {
      "image/png": "[encoded data removed]",
      "text/plain": [
       "<Figure size 640x480 with 1 Axes>"
      ]
     },
     "metadata": {},
     "output_type": "display_data"
    }
   ],
   "source": [
    "df.dur.plot.hist()"
   ]
  },
  {
   "cell_type": "code",
   "execution_count": null,
   "id": "f6f73827",
   "metadata": {},
   "outputs": [],
   "source": []
  },
  {
   "cell_type": "code",
   "execution_count": 64,
   "id": "ae0e1211",
   "metadata": {},
   "outputs": [
    {
     "data": {
      "text/plain": [
       "<AxesSubplot:ylabel='Density'>"
      ]
     },
     "execution_count": 64,
     "metadata": {},
     "output_type": "execute_result"
    },
    {
     "data": {
      "image/png": "[encoded data removed]",
      "text/plain": [
       "<Figure size 640x480 with 1 Axes>"
      ]
     },
     "metadata": {},
     "output_type": "display_data"
    }
   ],
   "source": [
    "df.dur.plot.kde()"
   ]
  },
  {
   "cell_type": "code",
   "execution_count": null,
   "id": "c61778b4",
   "metadata": {},
   "outputs": [],
   "source": []
  },
  {
   "cell_type": "code",
   "execution_count": null,
   "id": "28e0a4bb",
   "metadata": {},
   "outputs": [],
   "source": []
  },
  {
   "cell_type": "markdown",
   "id": "56dee0e8",
   "metadata": {},
   "source": [
    "# Encoding"
   ]
  },
  {
   "cell_type": "markdown",
   "id": "e2807249",
   "metadata": {},
   "source": [
    "1. Encoding JOB, Martial, Education, month by highest conversion percentage.\n",
    "2. For unknown in education - student\n",
    "3. For unknown in call type - unknown\n",
    "4. For unknown in previous outcome - unknown\n",
    "5. For unknown in edu qual  - secondary"
   ]
  },
  {
   "cell_type": "code",
   "execution_count": 65,
   "id": "6e980e7e",
   "metadata": {},
   "outputs": [],
   "source": [
    "df['job'] = df['job'].replace({'management' : 3, 'technician' : 6, 'entrepreneur' : 9, 'blue-collar' : 10,\n",
    "                               'unknown' : 0, 'retired' : 1, 'admin.' : 4, 'services' : 7, 'self-employed' : 5,\n",
    "                               'unemployed' : 2, 'housemaid' : 8, 'student' : 0})\n",
    "\n",
    "\n",
    "df['marital'] = df['marital'].replace({'married' : 2, 'single' : 0, 'divorced' : 1})\n",
    "\n",
    "\n",
    "df['education_qual'] = df['education_qual'].replace({'tertiary' : 0, 'secondary' : 1, 'primary' : 2, 'unknown' : 1})\n",
    "\n",
    "\n",
    "df['call_type'] = df['call_type'].replace({'cellular' : 0, 'telephone' : 1, 'unknown' : 2})\n",
    "\n",
    "\n",
    "df['mon'] = df['mon'].replace({'may' : 11,'jul' : 10, 'aug' : 6, 'jun' : 7, 'nov' : 8, 'apr' : 4, \n",
    "                               'feb' : 5, 'jan' : 9, 'oct' : 3, 'sep' : 2, 'mar' : 0, 'dec' : 1})\n",
    "\n",
    "\n",
    "df['prev_outcome'] = df['prev_outcome'].replace({'success' : 0, 'failure' : 2, 'unknown' : 3, 'other' : 1})\n",
    "\n",
    "\n",
    "df['y'] = df['y'].replace({'yes' : 0, 'no' : 1})"
   ]
  },
  {
   "cell_type": "code",
   "execution_count": 66,
   "id": "40f136ad",
   "metadata": {},
   "outputs": [
    {
     "data": {
      "text/plain": [
       "age               0\n",
       "job               0\n",
       "marital           0\n",
       "education_qual    0\n",
       "call_type         0\n",
       "day               0\n",
       "mon               0\n",
       "dur               0\n",
       "num_calls         0\n",
       "prev_outcome      0\n",
       "y                 0\n",
       "dtype: int64"
      ]
     },
     "execution_count": 66,
     "metadata": {},
     "output_type": "execute_result"
    }
   ],
   "source": [
    "df.isnull().sum()"
   ]
  },
  {
   "cell_type": "code",
   "execution_count": 67,
   "id": "02ca300c",
   "metadata": {},
   "outputs": [
    {
     "data": {
      "text/plain": [
       "(45205, 11)"
      ]
     },
     "execution_count": 67,
     "metadata": {},
     "output_type": "execute_result"
    }
   ],
   "source": [
    "df.shape"
   ]
  },
  {
   "cell_type": "code",
   "execution_count": 68,
   "id": "0a0ef1d7",
   "metadata": {},
   "outputs": [
    {
     "data": {
      "text/plain": [
       "age               0\n",
       "job               0\n",
       "marital           0\n",
       "education_qual    0\n",
       "call_type         0\n",
       "day               0\n",
       "mon               0\n",
       "dur               0\n",
       "num_calls         0\n",
       "prev_outcome      0\n",
       "y                 0\n",
       "dtype: int64"
      ]
     },
     "execution_count": 68,
     "metadata": {},
     "output_type": "execute_result"
    }
   ],
   "source": [
    "df.isnull().sum()"
   ]
  },
  {
   "cell_type": "code",
   "execution_count": null,
   "id": "f108ba3a",
   "metadata": {},
   "outputs": [],
   "source": []
  },
  {
   "cell_type": "markdown",
   "id": "e142d71c",
   "metadata": {},
   "source": [
    "# Features and Target Variable"
   ]
  },
  {
   "cell_type": "code",
   "execution_count": 69,
   "id": "a10301d9",
   "metadata": {},
   "outputs": [],
   "source": [
    "X = df[['age', 'job', 'marital', 'education_qual', 'call_type', 'day', 'mon',\n",
    "       'dur', 'num_calls', 'prev_outcome']]\n",
    "\n",
    "y = df['y']"
   ]
  },
  {
   "cell_type": "code",
   "execution_count": 70,
   "id": "70ecca53",
   "metadata": {},
   "outputs": [
    {
     "data": {
      "text/plain": [
       "((45205, 10), (45205,))"
      ]
     },
     "execution_count": 70,
     "metadata": {},
     "output_type": "execute_result"
    }
   ],
   "source": [
    "X.shape, y.shape"
   ]
  },
  {
   "cell_type": "code",
   "execution_count": null,
   "id": "82ea1315",
   "metadata": {},
   "outputs": [],
   "source": []
  },
  {
   "cell_type": "markdown",
   "id": "e735f40a",
   "metadata": {},
   "source": [
    "# Spliting"
   ]
  },
  {
   "cell_type": "code",
   "execution_count": 71,
   "id": "33359a69",
   "metadata": {},
   "outputs": [],
   "source": [
    "from sklearn.model_selection import train_test_split\n",
    "X_train, X_test, y_train, y_test = train_test_split(X,y, test_size = 0.25) "
   ]
  },
  {
   "cell_type": "code",
   "execution_count": 72,
   "id": "f1db7d5b",
   "metadata": {},
   "outputs": [
    {
     "data": {
      "text/html": [
       "<div>\n",
       "<style scoped>\n",
       "    .dataframe tbody tr th:only-of-type {\n",
       "        vertical-align: middle;\n",
       "    }\n",
       "\n",
       "    .dataframe tbody tr th {\n",
       "        vertical-align: top;\n",
       "    }\n",
       "\n",
       "    .dataframe thead th {\n",
       "        text-align: right;\n",
       "    }\n",
       "</style>\n",
       "<table border=\"1\" class=\"dataframe\">\n",
       "  <thead>\n",
       "    <tr style=\"text-align: right;\">\n",
       "      <th></th>\n",
       "      <th>age</th>\n",
       "      <th>job</th>\n",
       "      <th>marital</th>\n",
       "      <th>education_qual</th>\n",
       "      <th>call_type</th>\n",
       "      <th>day</th>\n",
       "      <th>mon</th>\n",
       "      <th>dur</th>\n",
       "      <th>num_calls</th>\n",
       "      <th>prev_outcome</th>\n",
       "    </tr>\n",
       "  </thead>\n",
       "  <tbody>\n",
       "    <tr>\n",
       "      <th>12798</th>\n",
       "      <td>30</td>\n",
       "      <td>3</td>\n",
       "      <td>0</td>\n",
       "      <td>0</td>\n",
       "      <td>0</td>\n",
       "      <td>7</td>\n",
       "      <td>10</td>\n",
       "      <td>240</td>\n",
       "      <td>1</td>\n",
       "      <td>3</td>\n",
       "    </tr>\n",
       "    <tr>\n",
       "      <th>18194</th>\n",
       "      <td>46</td>\n",
       "      <td>3</td>\n",
       "      <td>2</td>\n",
       "      <td>0</td>\n",
       "      <td>0</td>\n",
       "      <td>30</td>\n",
       "      <td>10</td>\n",
       "      <td>239</td>\n",
       "      <td>4</td>\n",
       "      <td>3</td>\n",
       "    </tr>\n",
       "    <tr>\n",
       "      <th>18308</th>\n",
       "      <td>47</td>\n",
       "      <td>3</td>\n",
       "      <td>2</td>\n",
       "      <td>1</td>\n",
       "      <td>1</td>\n",
       "      <td>31</td>\n",
       "      <td>10</td>\n",
       "      <td>921</td>\n",
       "      <td>4</td>\n",
       "      <td>3</td>\n",
       "    </tr>\n",
       "    <tr>\n",
       "      <th>13872</th>\n",
       "      <td>34</td>\n",
       "      <td>5</td>\n",
       "      <td>2</td>\n",
       "      <td>0</td>\n",
       "      <td>0</td>\n",
       "      <td>10</td>\n",
       "      <td>10</td>\n",
       "      <td>58</td>\n",
       "      <td>1</td>\n",
       "      <td>3</td>\n",
       "    </tr>\n",
       "    <tr>\n",
       "      <th>26846</th>\n",
       "      <td>56</td>\n",
       "      <td>6</td>\n",
       "      <td>0</td>\n",
       "      <td>1</td>\n",
       "      <td>0</td>\n",
       "      <td>20</td>\n",
       "      <td>8</td>\n",
       "      <td>367</td>\n",
       "      <td>8</td>\n",
       "      <td>3</td>\n",
       "    </tr>\n",
       "    <tr>\n",
       "      <th>...</th>\n",
       "      <td>...</td>\n",
       "      <td>...</td>\n",
       "      <td>...</td>\n",
       "      <td>...</td>\n",
       "      <td>...</td>\n",
       "      <td>...</td>\n",
       "      <td>...</td>\n",
       "      <td>...</td>\n",
       "      <td>...</td>\n",
       "      <td>...</td>\n",
       "    </tr>\n",
       "    <tr>\n",
       "      <th>36239</th>\n",
       "      <td>34</td>\n",
       "      <td>7</td>\n",
       "      <td>0</td>\n",
       "      <td>1</td>\n",
       "      <td>0</td>\n",
       "      <td>11</td>\n",
       "      <td>11</td>\n",
       "      <td>610</td>\n",
       "      <td>2</td>\n",
       "      <td>3</td>\n",
       "    </tr>\n",
       "    <tr>\n",
       "      <th>22158</th>\n",
       "      <td>56</td>\n",
       "      <td>3</td>\n",
       "      <td>2</td>\n",
       "      <td>0</td>\n",
       "      <td>0</td>\n",
       "      <td>21</td>\n",
       "      <td>6</td>\n",
       "      <td>321</td>\n",
       "      <td>2</td>\n",
       "      <td>3</td>\n",
       "    </tr>\n",
       "    <tr>\n",
       "      <th>9015</th>\n",
       "      <td>57</td>\n",
       "      <td>3</td>\n",
       "      <td>2</td>\n",
       "      <td>0</td>\n",
       "      <td>2</td>\n",
       "      <td>5</td>\n",
       "      <td>7</td>\n",
       "      <td>21</td>\n",
       "      <td>1</td>\n",
       "      <td>3</td>\n",
       "    </tr>\n",
       "    <tr>\n",
       "      <th>42187</th>\n",
       "      <td>42</td>\n",
       "      <td>3</td>\n",
       "      <td>2</td>\n",
       "      <td>0</td>\n",
       "      <td>0</td>\n",
       "      <td>10</td>\n",
       "      <td>8</td>\n",
       "      <td>193</td>\n",
       "      <td>2</td>\n",
       "      <td>3</td>\n",
       "    </tr>\n",
       "    <tr>\n",
       "      <th>7151</th>\n",
       "      <td>44</td>\n",
       "      <td>10</td>\n",
       "      <td>2</td>\n",
       "      <td>2</td>\n",
       "      <td>2</td>\n",
       "      <td>29</td>\n",
       "      <td>11</td>\n",
       "      <td>23</td>\n",
       "      <td>1</td>\n",
       "      <td>3</td>\n",
       "    </tr>\n",
       "  </tbody>\n",
       "</table>\n",
       "<p>33903 rows × 10 columns</p>\n",
       "</div>"
      ],
      "text/plain": [
       "       age  job  marital  education_qual  call_type  day  mon  dur  num_calls  \\\n",
       "12798   30    3        0               0          0    7   10  240          1   \n",
       "18194   46    3        2               0          0   30   10  239          4   \n",
       "18308   47    3        2               1          1   31   10  921          4   \n",
       "13872   34    5        2               0          0   10   10   58          1   \n",
       "26846   56    6        0               1          0   20    8  367          8   \n",
       "...    ...  ...      ...             ...        ...  ...  ...  ...        ...   \n",
       "36239   34    7        0               1          0   11   11  610          2   \n",
       "22158   56    3        2               0          0   21    6  321          2   \n",
       "9015    57    3        2               0          2    5    7   21          1   \n",
       "42187   42    3        2               0          0   10    8  193          2   \n",
       "7151    44   10        2               2          2   29   11   23          1   \n",
       "\n",
       "       prev_outcome  \n",
       "12798             3  \n",
       "18194             3  \n",
       "18308             3  \n",
       "13872             3  \n",
       "26846             3  \n",
       "...             ...  \n",
       "36239             3  \n",
       "22158             3  \n",
       "9015              3  \n",
       "42187             3  \n",
       "7151              3  \n",
       "\n",
       "[33903 rows x 10 columns]"
      ]
     },
     "execution_count": 72,
     "metadata": {},
     "output_type": "execute_result"
    }
   ],
   "source": [
    "X_train"
   ]
  },
  {
   "cell_type": "markdown",
   "id": "8b9ab5b4",
   "metadata": {},
   "source": [
    "# Balancing the data"
   ]
  },
  {
   "cell_type": "code",
   "execution_count": 73,
   "id": "55a0cc5b",
   "metadata": {},
   "outputs": [],
   "source": [
    "from imblearn.combine import SMOTEENN\n",
    "smt = SMOTEENN()\n",
    "X_train, y_train = smt.fit_resample(X_train, y_train)"
   ]
  },
  {
   "cell_type": "code",
   "execution_count": 74,
   "id": "a9779dc4",
   "metadata": {},
   "outputs": [
    {
     "data": {
      "text/plain": [
       "(       age  job  marital  education_qual  call_type  day  mon  dur  num_calls  \\\n",
       " 0       55    6        2               1          1   28   10  596          4   \n",
       " 1       24    0        0               1          0   15    2  216          1   \n",
       " 2       37    3        2               0          0    9    8  268          1   \n",
       " 3       35    7        0               2          0   11   10  614          2   \n",
       " 4       28    5        0               0          0   25   11  426          1   \n",
       " ...    ...  ...      ...             ...        ...  ...  ...  ...        ...   \n",
       " 51530   36   10        2               1          2   12   11  325          4   \n",
       " 51531   51    8        1               1          0   18    8   91          1   \n",
       " 51532   56    3        2               0          0   21    6  321          2   \n",
       " 51533   57    3        2               0          2    5    7   21          1   \n",
       " 51534   44   10        2               2          2   29   11   23          1   \n",
       " \n",
       "        prev_outcome  \n",
       " 0                 3  \n",
       " 1                 3  \n",
       " 2                 3  \n",
       " 3                 3  \n",
       " 4                 3  \n",
       " ...             ...  \n",
       " 51530             3  \n",
       " 51531             3  \n",
       " 51532             3  \n",
       " 51533             3  \n",
       " 51534             3  \n",
       " \n",
       " [51535 rows x 10 columns],\n",
       " 0        0\n",
       " 1        0\n",
       " 2        0\n",
       " 3        0\n",
       " 4        0\n",
       "         ..\n",
       " 51530    1\n",
       " 51531    1\n",
       " 51532    1\n",
       " 51533    1\n",
       " 51534    1\n",
       " Name: y, Length: 51535, dtype: int64)"
      ]
     },
     "execution_count": 74,
     "metadata": {},
     "output_type": "execute_result"
    }
   ],
   "source": [
    "X_train, y_train"
   ]
  },
  {
   "cell_type": "code",
   "execution_count": null,
   "id": "925514a1",
   "metadata": {},
   "outputs": [],
   "source": []
  },
  {
   "cell_type": "markdown",
   "id": "4491e384",
   "metadata": {},
   "source": [
    "# Models"
   ]
  },
  {
   "cell_type": "markdown",
   "id": "b9c31619",
   "metadata": {},
   "source": [
    "# Logistic Regression"
   ]
  },
  {
   "cell_type": "code",
   "execution_count": 75,
   "id": "21425cb7",
   "metadata": {},
   "outputs": [
    {
     "data": {
      "text/plain": [
       "0.8094134120295288"
      ]
     },
     "execution_count": 75,
     "metadata": {},
     "output_type": "execute_result"
    }
   ],
   "source": [
    "from sklearn.linear_model import LogisticRegression\n",
    "from sklearn.metrics import roc_auc_score\n",
    "log = LogisticRegression()\n",
    "log.fit(X_train, y_train)\n",
    "y_predict_log = log.predict(X_test)\n",
    "roc_auc_score(y_test,y_predict_log)"
   ]
  },
  {
   "cell_type": "markdown",
   "id": "46f33246",
   "metadata": {},
   "source": [
    "# Decision Tree"
   ]
  },
  {
   "cell_type": "code",
   "execution_count": 76,
   "id": "67485e9c",
   "metadata": {},
   "outputs": [
    {
     "name": "stdout",
     "output_type": "stream",
     "text": [
      "Depth :  1 Train Score :  0.7832346948675657 AUROC :  0.711333962933722 Cross Validation :  0.7756877065619873\n",
      "Depth :  2 Train Score :  0.8421655185796061 AUROC :  0.7387201541865922 Cross Validation :  0.8588030493007903\n",
      "Depth :  3 Train Score :  0.8700882895119821 AUROC :  0.7869293186868402 Cross Validation :  0.9138694793630178\n",
      "Depth :  4 Train Score :  0.8967691859901038 AUROC :  0.7980468902017765 Cross Validation :  0.9417557819085325\n",
      "Depth :  5 Train Score :  0.9083341418453478 AUROC :  0.8044002285672892 Cross Validation :  0.9588553580405905\n",
      "Depth :  6 Train Score :  0.9227903366644028 AUROC :  0.8068933921628237 Cross Validation :  0.9691453103538624\n",
      "Depth :  7 Train Score :  0.9327059280100902 AUROC :  0.8134467461720181 Cross Validation :  0.9737255449905653\n",
      "Depth :  8 Train Score :  0.9434364994663821 AUROC :  0.8207148546004561 Cross Validation :  0.9764908711617541\n",
      "Depth :  9 Train Score :  0.9503250218298244 AUROC :  0.819258258303385 Cross Validation :  0.976598764421938\n",
      "Depth :  10 Train Score :  0.9573493742117007 AUROC :  0.8210431792584817 Cross Validation :  0.9752285545547776\n",
      "Depth :  11 Train Score :  0.9647035994954885 AUROC :  0.8197229064727466 Cross Validation :  0.9729315123692913\n",
      "Depth :  12 Train Score :  0.9714756961288444 AUROC :  0.8194516465745539 Cross Validation :  0.9701958091172562\n",
      "Depth :  13 Train Score :  0.9778403027068983 AUROC :  0.8160321920766679 Cross Validation :  0.9674437180025774\n",
      "Depth :  14 Train Score :  0.9836809934995634 AUROC :  0.8134050168439296 Cross Validation :  0.9644490353557454\n"
     ]
    }
   ],
   "source": [
    "from sklearn.tree import DecisionTreeClassifier\n",
    "from sklearn.model_selection import cross_val_score\n",
    "\n",
    "for depth in range(1,15) :\n",
    "    dt = DecisionTreeClassifier(max_depth = depth)\n",
    "    dt.fit(X_train, y_train)\n",
    "    y_predict_dt = dt.predict(X_test)\n",
    "    auroc = roc_auc_score(y_test, y_predict_dt)\n",
    "    print('Depth : ', depth, 'Train Score : ', dt.score(X_train, y_train), 'AUROC : ', auroc, 'Cross Validation : ', np.mean(cross_val_score(dt, X_train, y_train, cv=10, scoring = 'roc_auc')))\n"
   ]
  },
  {
   "cell_type": "code",
   "execution_count": 77,
   "id": "b686bb03",
   "metadata": {},
   "outputs": [
    {
     "data": {
      "text/plain": [
       "0.8192082832908912"
      ]
     },
     "execution_count": 77,
     "metadata": {},
     "output_type": "execute_result"
    }
   ],
   "source": [
    "from sklearn.tree import DecisionTreeClassifier\n",
    "from sklearn.model_selection import cross_val_score\n",
    "from sklearn.metrics import roc_auc_score\n",
    "\n",
    "dt = DecisionTreeClassifier(max_depth = 9)\n",
    "dt.fit(X_train, y_train)\n",
    "y_predict_dt = dt.predict(X_test)\n",
    "roc_auc_score(y_test, y_predict_dt)"
   ]
  },
  {
   "cell_type": "code",
   "execution_count": null,
   "id": "a277ab30",
   "metadata": {},
   "outputs": [],
   "source": []
  },
  {
   "cell_type": "markdown",
   "id": "33fcf2a7",
   "metadata": {},
   "source": [
    "# Random Forest"
   ]
  },
  {
   "cell_type": "code",
   "execution_count": 78,
   "id": "b86bcb55",
   "metadata": {},
   "outputs": [
    {
     "data": {
      "text/plain": [
       "0.7982603917778968"
      ]
     },
     "execution_count": 78,
     "metadata": {},
     "output_type": "execute_result"
    }
   ],
   "source": [
    "from sklearn.ensemble import RandomForestClassifier\n",
    "\n",
    "rf = RandomForestClassifier(n_estimators = 100, max_depth = 3, max_features = 'sqrt')\n",
    "rf.fit(X_train, y_train)\n",
    "y_predict_rf = rf.predict(X_test)\n",
    "roc_auc_score(y_test, y_predict_rf)"
   ]
  },
  {
   "cell_type": "code",
   "execution_count": null,
   "id": "1a626a0d",
   "metadata": {},
   "outputs": [],
   "source": []
  },
  {
   "cell_type": "markdown",
   "id": "6eb49637",
   "metadata": {},
   "source": [
    "# XGBoost"
   ]
  },
  {
   "cell_type": "code",
   "execution_count": 79,
   "id": "ffbd612c",
   "metadata": {},
   "outputs": [
    {
     "name": "stdout",
     "output_type": "stream",
     "text": [
      "Learning Rate :  0.1 Train Score :  0.9683516057048608 AUROC :  0.8485858073276392 Cross Validation :  0.9921673919904196\n",
      "Learning Rate :  0.11 Train Score :  0.9694964587173766 AUROC :  0.847614897254534 Cross Validation :  0.9924740672990179\n",
      "Learning Rate :  0.12 Train Score :  0.970097991656156 AUROC :  0.847122352470642 Cross Validation :  0.9926492030589842\n",
      "Learning Rate :  0.13 Train Score :  0.9709129717667605 AUROC :  0.845894477587729 Cross Validation :  0.9928449992244666\n",
      "Learning Rate :  0.14 Train Score :  0.9725235276996216 AUROC :  0.8451448524003227 Cross Validation :  0.9929147262541143\n",
      "Learning Rate :  0.15 Train Score :  0.9741534879208305 AUROC :  0.8448878875905147 Cross Validation :  0.9931104469932427\n",
      "Learning Rate :  0.2 Train Score :  0.9784030270689823 AUROC :  0.8439170931111161 Cross Validation :  0.9937718189917149\n",
      "Learning Rate :  0.3 Train Score :  0.9847288250703405 AUROC :  0.84503095406807 Cross Validation :  0.9944013668981917\n",
      "Learning Rate :  0.4 Train Score :  0.9887649170466674 AUROC :  0.8413044441541757 Cross Validation :  0.9947845057814633\n",
      "Learning Rate :  0.5 Train Score :  0.9933249248083826 AUROC :  0.8361715441431173 Cross Validation :  0.9947760151361175\n",
      "Learning Rate :  0.6 Train Score :  0.9940816920539439 AUROC :  0.8374423042911852 Cross Validation :  0.9948869148682222\n",
      "Learning Rate :  0.7 Train Score :  0.9962549723488892 AUROC :  0.8385560496544326 Cross Validation :  0.9948586726794799\n",
      "Learning Rate :  0.8 Train Score :  0.9976326768215775 AUROC :  0.8392341993999146 Cross Validation :  0.9949300625257367\n",
      "Learning Rate :  0.9 Train Score :  0.9985252740855729 AUROC :  0.8429108498950216 Cross Validation :  0.9950178219528516\n",
      "Learning Rate :  1 Train Score :  0.9992626370427865 AUROC :  0.8347082048798268 Cross Validation :  0.9945481119452246\n"
     ]
    }
   ],
   "source": [
    "import xgboost as xgb\n",
    "\n",
    "for lr in [0.1,0.11,0.12,0.13,0.14,0.15,0.2,0.3,0.4,0.5,0.6,0.7,0.8,0.9,1]:\n",
    "    xg = xgb.XGBClassifier(learning_rate = lr, n_estimator = 100, verbosity = 0)\n",
    "    xg.fit(X_train, y_train)\n",
    "    y_predict_xg = xg.predict(X_test)\n",
    "    auroc = roc_auc_score(y_test, y_predict_xg)\n",
    "    print('Learning Rate : ', lr, 'Train Score : ', xg.score(X_train, y_train), 'AUROC : ', auroc, 'Cross Validation : ', np.mean(cross_val_score(xg, X_train, y_train, cv=10, scoring = 'roc_auc')))\n"
   ]
  },
  {
   "cell_type": "code",
   "execution_count": 85,
   "id": "4458251a",
   "metadata": {},
   "outputs": [
    {
     "data": {
      "text/plain": [
       "0.8429108498950216"
      ]
     },
     "execution_count": 85,
     "metadata": {},
     "output_type": "execute_result"
    }
   ],
   "source": [
    "import xgboost as xgb\n",
    "xg = xgb.XGBClassifier(learning_rate = 0.9, n_estimator = 100, verbosity = 0)\n",
    "xg.fit(X_train, y_train)\n",
    "y_predict_xg = xg.predict(X_test)\n",
    "roc_auc_score(y_test, y_predict_xg)"
   ]
  },
  {
   "cell_type": "markdown",
   "id": "8d87205f",
   "metadata": {},
   "source": [
    "# Voting Classifier"
   ]
  },
  {
   "cell_type": "code",
   "execution_count": 86,
   "id": "4e96f852",
   "metadata": {},
   "outputs": [
    {
     "data": {
      "text/plain": [
       "0.8317515490519968"
      ]
     },
     "execution_count": 86,
     "metadata": {},
     "output_type": "execute_result"
    }
   ],
   "source": [
    "from sklearn.ensemble import VotingClassifier\n",
    "from sklearn.neighbors import KNeighborsClassifier\n",
    "\n",
    "model1 =DecisionTreeClassifier(max_depth = 9)\n",
    "model2 = RandomForestClassifier(n_estimators = 100, max_depth = 3, max_features = 'sqrt')\n",
    "model3 = xgb.XGBClassifier(learning_rate = 0.5, n_estimator = 100, verbosity = 0)\n",
    "\n",
    "model = VotingClassifier(estimators=[('Decision Tree : ', model1), ('Random Forest : ', model2),('XGBoost : ',model3)]) \n",
    "\n",
    "model.fit(X_train, y_train)\n",
    "y_predict_voting = model.predict(X_test)\n",
    "roc_auc_score(y_test, y_predict_voting)"
   ]
  },
  {
   "cell_type": "code",
   "execution_count": null,
   "id": "88c0458d",
   "metadata": {},
   "outputs": [],
   "source": []
  },
  {
   "cell_type": "markdown",
   "id": "1c3fb391",
   "metadata": {},
   "source": [
    "# AUROC"
   ]
  },
  {
   "cell_type": "code",
   "execution_count": 87,
   "id": "ce397579",
   "metadata": {},
   "outputs": [
    {
     "data": {
      "text/plain": [
       "XGBoost                0.842911\n",
       "Voting Classifier      0.831752\n",
       "Decision Tree          0.819208\n",
       "Random Forest          0.798260\n",
       "Logistic Regression    0.809413\n",
       "dtype: float64"
      ]
     },
     "execution_count": 87,
     "metadata": {},
     "output_type": "execute_result"
    }
   ],
   "source": [
    "AUROC = pd.Series({'XGBoost' : (roc_auc_score(y_test, y_predict_xg)),\n",
    "                   'Voting Classifier' : (roc_auc_score(y_test, y_predict_voting)),\n",
    "                   'Decision Tree' : (roc_auc_score(y_test, y_predict_dt)),\n",
    "                   'Random Forest' : (roc_auc_score(y_test, y_predict_rf)),\n",
    "                   'Logistic Regression' : (roc_auc_score(y_test,y_predict_log))})\n",
    "AUROC"
   ]
  },
  {
   "cell_type": "markdown",
   "id": "caaa81da",
   "metadata": {},
   "source": [
    "# Important Features"
   ]
  },
  {
   "cell_type": "code",
   "execution_count": 88,
   "id": "744bcef0",
   "metadata": {},
   "outputs": [
    {
     "name": "stdout",
     "output_type": "stream",
     "text": [
      "call_type       - 37.709999084472656\n",
      "prev_outcome    - 17.690000534057617\n",
      "mon             - 14.170000076293945\n",
      "dur             - 10.920000076293945\n",
      "job             - 4.369999885559082\n",
      "education_qual  - 4.25\n",
      "marital         - 3.690000057220459\n",
      "num_calls       - 2.809999942779541\n",
      "day             - 2.549999952316284\n",
      "age             - 1.850000023841858\n"
     ]
    }
   ],
   "source": [
    "importances = list((xg.feature_importances_)*100)\n",
    "\n",
    "\n",
    "feature_importances = [(feature, round(importance, 2)) for feature, importance in zip(X.columns, importances)]\n",
    "\n",
    "\n",
    "feature_importances = sorted(feature_importances, key = lambda x: x[1], reverse = True)\n",
    "\n",
    " \n",
    "[print('{:15} - {}'.format(*pair)) for pair in feature_importances];\n"
   ]
  },
  {
   "cell_type": "code",
   "execution_count": null,
   "id": "e088ca19",
   "metadata": {},
   "outputs": [],
   "source": []
  },
  {
   "cell_type": "code",
   "execution_count": 89,
   "id": "d9320935",
   "metadata": {},
   "outputs": [
    {
     "name": "stdout",
     "output_type": "stream",
     "text": [
      "0.8429108498950216\n",
      "0.8317515490519968\n",
      "0.8192082832908912\n",
      "0.7982603917778968\n",
      "0.8094134120295288\n"
     ]
    }
   ],
   "source": [
    "print(roc_auc_score(y_test, y_predict_xg))\n",
    "print(roc_auc_score(y_test, y_predict_voting))\n",
    "print(roc_auc_score(y_test, y_predict_dt))\n",
    "print(roc_auc_score(y_test, y_predict_rf))\n",
    "print(roc_auc_score(y_test,y_predict_log))"
   ]
  },
  {
   "cell_type": "code",
   "execution_count": null,
   "id": "05d29af2",
   "metadata": {},
   "outputs": [],
   "source": []
  }
 ],
 "metadata": {
  "kernelspec": {
   "display_name": "Python 3 (ipykernel)",
   "language": "python",
   "name": "python3"
  },
  "language_info": {
   "codemirror_mode": {
    "name": "ipython",
    "version": 3
   },
   "file_extension": ".py",
   "mimetype": "text/x-python",
   "name": "python",
   "nbconvert_exporter": "python",
   "pygments_lexer": "ipython3",
   "version": "3.9.13"
  }
 },
 "nbformat": 4,
 "nbformat_minor": 5
}
